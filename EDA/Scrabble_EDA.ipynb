{
 "cells": [
  {
   "cell_type": "code",
   "execution_count": 10,
   "id": "90d800bc-6a04-41d2-98c9-14be6ac91a48",
   "metadata": {},
   "outputs": [
    {
     "name": "stdout",
     "output_type": "stream",
     "text": [
      "   game_id      first time_control_name game_end_reason  winner  \\\n",
      "0        1  BetterBot           regular        STANDARD       1   \n",
      "1        2      Super           regular        STANDARD       1   \n",
      "2        3  BetterBot           regular        STANDARD       1   \n",
      "3        4  BetterBot           regular        RESIGNED       0   \n",
      "4        5    STEEBot           regular        STANDARD       0   \n",
      "\n",
      "            created_at lexicon  initial_time_seconds  increment_seconds  \\\n",
      "0  2022-08-26 03:38:49   NWL20                  1200                  0   \n",
      "1  2022-08-10 19:19:59   CSW21                  3600                  0   \n",
      "2  2022-09-04 08:04:27   CSW21                   900                  0   \n",
      "3  2022-09-12 02:36:19   CSW21                  3600                  0   \n",
      "4  2022-09-06 04:31:36   NWL20                  1200                  0   \n",
      "\n",
      "  rating_mode  max_overtime_minutes  game_duration_seconds  \n",
      "0      CASUAL                     1             674.844274  \n",
      "1       RATED                     1             364.214418  \n",
      "2       RATED                     5             492.268262  \n",
      "3      CASUAL                     1             350.861141  \n",
      "4      CASUAL                     1             642.688722  \n",
      "<class 'pandas.core.frame.DataFrame'>\n",
      "RangeIndex: 2005498 entries, 0 to 2005497\n",
      "Data columns (total 9 columns):\n",
      " #   Column       Dtype \n",
      "---  ------       ----- \n",
      " 0   game_id      int64 \n",
      " 1   turn_number  int64 \n",
      " 2   nickname     object\n",
      " 3   rack         object\n",
      " 4   location     object\n",
      " 5   move         object\n",
      " 6   points       int64 \n",
      " 7   score        int64 \n",
      " 8   turn_type    object\n",
      "dtypes: int64(4), object(5)\n",
      "memory usage: 137.7+ MB\n",
      "None\n"
     ]
    }
   ],
   "source": [
    "import pandas as pd\n",
    "\n",
    "games = pd.read_csv(\"../DATA/games.csv\")\n",
    "turns = pd.read_csv(\"../DATA/turns.csv\")\n",
    "\n",
    "print(games.head())\n",
    "print(turns.info())\n"
   ]
  },
  {
   "cell_type": "code",
   "execution_count": null,
   "id": "af18865a-1277-44c4-ae13-8dd551ff1329",
   "metadata": {},
   "outputs": [],
   "source": []
  }
 ],
 "metadata": {
  "kernelspec": {
   "display_name": "Python 3 (ipykernel)",
   "language": "python",
   "name": "python3"
  },
  "language_info": {
   "codemirror_mode": {
    "name": "ipython",
    "version": 3
   },
   "file_extension": ".py",
   "mimetype": "text/x-python",
   "name": "python",
   "nbconvert_exporter": "python",
   "pygments_lexer": "ipython3",
   "version": "3.12.1"
  }
 },
 "nbformat": 4,
 "nbformat_minor": 5
}
