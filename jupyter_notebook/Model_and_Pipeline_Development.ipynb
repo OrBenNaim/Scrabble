{
 "cells": [
  {
   "cell_type": "markdown",
   "id": "be8adf0c-2295-4e1d-872e-06bd38ab8497",
   "metadata": {},
   "source": [
    "### Step 1: Import functions"
   ]
  },
  {
   "cell_type": "code",
   "execution_count": 1,
   "id": "bd253f03-1372-4cf8-b1ca-e57434b886b7",
   "metadata": {},
   "outputs": [],
   "source": [
    "# === Imports ===\n",
    "import pandas as pd\n",
    "import numpy as np\n",
    "import matplotlib.pyplot as plt\n",
    "import seaborn as sns\n",
    "import sys\n",
    "import os\n",
    "\n",
    "# Go to project root: .../Scrabble\n",
    "project_root = os.path.abspath(os.path.join(os.getcwd(), '..'))\n",
    "sys.path.insert(0, project_root)  # 👈 Add root, not src!\n",
    "\n",
    "from src.constants import GAMES_FILE_PATH, TURNS_FILE_PATH, TRAIN_FILE_PATH\n",
    "\n",
    "from src.utils import create_dataset"
   ]
  },
  {
   "cell_type": "code",
   "execution_count": 2,
   "id": "f00f1ccb-bb27-4614-b811-10d31edc86cd",
   "metadata": {},
   "outputs": [],
   "source": [
    "dataset = create_dataset()\n",
    "\n",
    "# Filter out rows of testing data (rows with user_rating == 0)\n",
    "training_examples = dataset[dataset['user_rating'] != 0]\n",
    "\n",
    "X = training_examples.drop(columns=['user_rating'])  # Features df\n",
    "y = training_examples['user_rating']  # target vector"
   ]
  }
 ],
 "metadata": {
  "kernelspec": {
   "display_name": "Python 3 (ipykernel)",
   "language": "python",
   "name": "python3"
  },
  "language_info": {
   "codemirror_mode": {
    "name": "ipython",
    "version": 3
   },
   "file_extension": ".py",
   "mimetype": "text/x-python",
   "name": "python",
   "nbconvert_exporter": "python",
   "pygments_lexer": "ipython3",
   "version": "3.12.1"
  }
 },
 "nbformat": 4,
 "nbformat_minor": 5
}
