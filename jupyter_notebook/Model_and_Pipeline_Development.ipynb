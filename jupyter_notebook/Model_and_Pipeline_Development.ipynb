{
 "cells": [
  {
   "cell_type": "markdown",
   "id": "be8adf0c-2295-4e1d-872e-06bd38ab8497",
   "metadata": {},
   "source": [
    "## Step 0: Imports"
   ]
  },
  {
   "cell_type": "code",
   "execution_count": 1,
   "id": "bd253f03-1372-4cf8-b1ca-e57434b886b7",
   "metadata": {},
   "outputs": [],
   "source": [
    "# === Imports ===\n",
    "import pandas as pd\n",
    "import numpy as np\n",
    "import matplotlib.pyplot as plt\n",
    "import seaborn as sns\n",
    "import sys\n",
    "import os\n",
    "\n",
    "from sklearn.model_selection import train_test_split\n",
    "\n",
    "# Go to project root: .../Scrabble\n",
    "project_root = os.path.abspath(os.path.join(os.getcwd(), '..'))\n",
    "sys.path.insert(0, project_root)  # 👈 Add root, not src!\n",
    "\n",
    "from src.constants import GAMES_FILE_PATH, TURNS_FILE_PATH, TRAIN_FILE_PATH\n",
    "from src.utils import create_dataset, evaluate_multiple_models, tune_all_models"
   ]
  },
  {
   "cell_type": "markdown",
   "id": "740337f7-9c6c-440d-b7dc-00a0ed34d8e7",
   "metadata": {},
   "source": [
    "## Step 1: Create Training+Validation/Test sets"
   ]
  },
  {
   "cell_type": "code",
   "execution_count": 2,
   "id": "f00f1ccb-bb27-4614-b811-10d31edc86cd",
   "metadata": {},
   "outputs": [],
   "source": [
    "# Create new features and build one df to contains X_train_val, y_train_val and X_test \n",
    "dataset = create_dataset()\n",
    "\n",
    "# Filter out rows of testing data (rows with user_rating == 0)\n",
    "training_examples = dataset[dataset['user_rating'] != 0]\n",
    "\n",
    "X_train_val = training_examples.drop(columns=['user_rating'])  # Traning + validation features df\n",
    "y_train_val = training_examples['user_rating']  # Train + validation target vector\n",
    "\n",
    "# Extract rows of testing data\n",
    "testing_examples = dataset[dataset['user_rating'] == 0]\n",
    "X_test = testing_examples.drop(columns=['user_rating']) # Test features df"
   ]
  },
  {
   "cell_type": "markdown",
   "id": "5df83703-5763-44c0-9971-b3b1e5d3c6a7",
   "metadata": {},
   "source": [
    "## Step 2: Tune the best model"
   ]
  },
  {
   "cell_type": "code",
   "execution_count": null,
   "id": "e8cec703-0981-4896-af88-f2f84ca9a14b",
   "metadata": {},
   "outputs": [
    {
     "name": "stderr",
     "output_type": "stream",
     "text": [
      "[I 2025-04-29 14:47:26,346] A new study created in memory with name: no-name-2beef31a-d1a7-44fa-8ac0-75518daea67b\n"
     ]
    },
    {
     "name": "stdout",
     "output_type": "stream",
     "text": [
      "\n",
      "Optimizing: Random Forest\n"
     ]
    }
   ],
   "source": [
    "# Tune all models\n",
    "cross_val_scores_df, tuned_models = tune_all_models(X_train_val, y_train_val)\n",
    "print(tuned_models, end='\\n')\n",
    "print(cross_val_scores_df, end='\\n')\n",
    "best_model = tuned_models[cross_val_scores_df.iloc[0]['model']]"
   ]
  },
  {
   "cell_type": "code",
   "execution_count": null,
   "id": "128329d4-5dd2-4e24-a231-c8efed33c6ec",
   "metadata": {},
   "outputs": [],
   "source": []
  }
 ],
 "metadata": {
  "kernelspec": {
   "display_name": "Python 3 (ipykernel)",
   "language": "python",
   "name": "python3"
  },
  "language_info": {
   "codemirror_mode": {
    "name": "ipython",
    "version": 3
   },
   "file_extension": ".py",
   "mimetype": "text/x-python",
   "name": "python",
   "nbconvert_exporter": "python",
   "pygments_lexer": "ipython3",
   "version": "3.12.1"
  }
 },
 "nbformat": 4,
 "nbformat_minor": 5
}
