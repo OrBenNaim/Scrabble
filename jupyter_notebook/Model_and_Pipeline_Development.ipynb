{
 "cells": [
  {
   "cell_type": "markdown",
   "id": "be8adf0c-2295-4e1d-872e-06bd38ab8497",
   "metadata": {},
   "source": [
    "# Step 0: Imports"
   ]
  },
  {
   "cell_type": "code",
   "execution_count": 1,
   "id": "bd253f03-1372-4cf8-b1ca-e57434b886b7",
   "metadata": {},
   "outputs": [],
   "source": [
    "# === Imports ===\n",
    "import pandas as pd\n",
    "import numpy as np\n",
    "import matplotlib.pyplot as plt\n",
    "import seaborn as sns\n",
    "import sys\n",
    "import os\n",
    "\n",
    "from sklearn.model_selection import train_test_split\n",
    "\n",
    "# Go to project root: .../Scrabble\n",
    "project_root = os.path.abspath(os.path.join(os.getcwd(), '..'))\n",
    "sys.path.insert(0, project_root)  # Add root\n",
    "\n",
    "from src.utils import create_dataset, find_best_model"
   ]
  },
  {
   "cell_type": "markdown",
   "id": "740337f7-9c6c-440d-b7dc-00a0ed34d8e7",
   "metadata": {},
   "source": [
    "# Step 1: Create Training+Validation/Testing sets"
   ]
  },
  {
   "cell_type": "code",
   "execution_count": 2,
   "id": "f00f1ccb-bb27-4614-b811-10d31edc86cd",
   "metadata": {},
   "outputs": [],
   "source": [
    "# Create new features and build one df to contains X_train_val, y_train_val and X_test \n",
    "dataset = create_dataset()\n",
    "\n",
    "# Filter out rows of testing data (rows with user_rating == 0)\n",
    "training_examples = dataset[dataset['user_rating'] != 0]\n",
    "\n",
    "X_train_val = training_examples.drop(columns=['user_rating'])  # Traning + validation features df\n",
    "y_train_val = training_examples['user_rating']  # Train + validation target vector\n",
    "\n",
    "# Extract rows of testing data\n",
    "testing_examples = dataset[dataset['user_rating'] == 0]\n",
    "X_test = testing_examples.drop(columns=['user_rating']) # Test features df"
   ]
  },
  {
   "cell_type": "markdown",
   "id": "5df83703-5763-44c0-9971-b3b1e5d3c6a7",
   "metadata": {},
   "source": [
    "# Step 2: Find the best model after tuning hyperparameters"
   ]
  },
  {
   "cell_type": "code",
   "execution_count": null,
   "id": "e8cec703-0981-4896-af88-f2f84ca9a14b",
   "metadata": {},
   "outputs": [
    {
     "name": "stderr",
     "output_type": "stream",
     "text": [
      "[I 2025-04-29 17:48:10,158] A new study created in memory with name: no-name-1f312319-6528-465b-8ae3-ffc820df2a31\n"
     ]
    },
    {
     "name": "stdout",
     "output_type": "stream",
     "text": [
      "\n",
      "Optimizing: Random Forest\n"
     ]
    },
    {
     "name": "stderr",
     "output_type": "stream",
     "text": [
      "[I 2025-04-29 17:50:45,157] Trial 0 finished with value: 135.63121091356007 and parameters: {'n_estimators': 250, 'max_depth': 48, 'min_samples_split': 15}. Best is trial 0 with value: 135.63121091356007.\n",
      "[I 2025-04-29 17:53:18,701] Trial 1 finished with value: 134.67584752763474 and parameters: {'n_estimators': 340, 'max_depth': 12, 'min_samples_split': 4}. Best is trial 1 with value: 134.67584752763474.\n",
      "[I 2025-04-29 17:54:41,911] Trial 2 finished with value: 135.88986567769865 and parameters: {'n_estimators': 123, 'max_depth': 44, 'min_samples_split': 13}. Best is trial 1 with value: 134.67584752763474.\n",
      "[I 2025-04-29 17:55:59,795] Trial 3 finished with value: 140.7234494851781 and parameters: {'n_estimators': 383, 'max_depth': 5, 'min_samples_split': 20}. Best is trial 1 with value: 134.67584752763474.\n",
      "[I 2025-04-29 17:59:38,623] Trial 4 finished with value: 134.777724966935 and parameters: {'n_estimators': 433, 'max_depth': 14, 'min_samples_split': 5}. Best is trial 1 with value: 134.67584752763474.\n",
      "[I 2025-04-29 18:01:20,485] Trial 5 finished with value: 135.29102717057555 and parameters: {'n_estimators': 173, 'max_depth': 18, 'min_samples_split': 11}. Best is trial 1 with value: 134.67584752763474.\n",
      "[I 2025-04-29 18:03:58,809] Trial 6 finished with value: 135.14410578472967 and parameters: {'n_estimators': 273, 'max_depth': 18, 'min_samples_split': 13}. Best is trial 1 with value: 134.67584752763474.\n",
      "[I 2025-05-02 11:33:50,054] Trial 7 finished with value: 135.4010009270181 and parameters: {'n_estimators': 155, 'max_depth': 18, 'min_samples_split': 8}. Best is trial 1 with value: 134.67584752763474.\n",
      "[I 2025-05-03 11:23:55,994] Trial 8 finished with value: 136.30765610337681 and parameters: {'n_estimators': 282, 'max_depth': 41, 'min_samples_split': 5}. Best is trial 1 with value: 134.67584752763474.\n",
      "[I 2025-05-03 11:25:31,675] Trial 9 finished with value: 136.45342119708988 and parameters: {'n_estimators': 306, 'max_depth': 32, 'min_samples_split': 2}. Best is trial 1 with value: 134.67584752763474.\n",
      "[I 2025-05-03 11:25:31,694] A new study created in memory with name: no-name-1f826d81-69cb-47d8-a2a4-211fb45b3ea1\n"
     ]
    },
    {
     "name": "stdout",
     "output_type": "stream",
     "text": [
      "Best score for Random Forest: 134.6758\n",
      "\n",
      "Best params: {'n_estimators': 340, 'max_depth': 12, 'min_samples_split': 4}\n",
      "\n",
      "Optimizing: XGBoost\n"
     ]
    },
    {
     "name": "stderr",
     "output_type": "stream",
     "text": [
      "[I 2025-05-03 11:25:52,516] Trial 0 finished with value: 142.13113403320312 and parameters: {'n_estimators': 250, 'max_depth': 12, 'learning_rate': 0.1205712628744377, 'subsample': 0.7993292420985183}. Best is trial 0 with value: 142.13113403320312.\n",
      "[I 2025-05-03 11:25:56,303] Trial 1 finished with value: 141.61570739746094 and parameters: {'n_estimators': 162, 'max_depth': 4, 'learning_rate': 0.012184186502221764, 'subsample': 0.9330880728874675}. Best is trial 1 with value: 141.61570739746094.\n",
      "[I 2025-05-03 11:27:51,631] Trial 2 finished with value: 134.92880249023438 and parameters: {'n_estimators': 341, 'max_depth': 10, 'learning_rate': 0.010725209743171996, 'subsample': 0.9849549260809971}. Best is trial 2 with value: 134.92880249023438.\n",
      "[I 2025-05-03 11:27:56,705] Trial 3 finished with value: 134.5030975341797 and parameters: {'n_estimators': 433, 'max_depth': 5, 'learning_rate': 0.01855998084649059, 'subsample': 0.5917022549267169}. Best is trial 3 with value: 134.5030975341797.\n",
      "[I 2025-05-03 11:28:01,226] Trial 4 finished with value: 134.39043579101562 and parameters: {'n_estimators': 222, 'max_depth': 8, 'learning_rate': 0.04345454109729477, 'subsample': 0.645614570099021}. Best is trial 4 with value: 134.39043579101562.\n",
      "[I 2025-05-03 11:28:03,651] Trial 5 finished with value: 135.15639038085936 and parameters: {'n_estimators': 345, 'max_depth': 4, 'learning_rate': 0.027010527749605478, 'subsample': 0.6831809216468459}. Best is trial 4 with value: 134.39043579101562.\n",
      "[I 2025-05-03 11:28:10,779] Trial 6 finished with value: 134.6245147705078 and parameters: {'n_estimators': 282, 'max_depth': 10, 'learning_rate': 0.019721610970574007, 'subsample': 0.7571172192068059}. Best is trial 4 with value: 134.39043579101562.\n",
      "[I 2025-05-03 11:28:12,908] Trial 7 finished with value: 135.43631286621093 and parameters: {'n_estimators': 337, 'max_depth': 3, 'learning_rate': 0.07896186801026692, 'subsample': 0.5852620618436457}. Best is trial 4 with value: 134.39043579101562.\n",
      "[I 2025-05-03 11:28:19,015] Trial 8 finished with value: 146.3693817138672 and parameters: {'n_estimators': 126, 'max_depth': 12, 'learning_rate': 0.26690431824362526, 'subsample': 0.9041986740582306}. Best is trial 4 with value: 134.39043579101562.\n"
     ]
    }
   ],
   "source": [
    "best_model, avg_train_rmse, avg_val_rmse = find_best_model(X_train_val, y_train_val)\n",
    "\n",
    "print(best_model, end='\\n')\n",
    "print(f\"RMSE on the training set = {avg_train_rmse:.3f}\", end='\\n')\n",
    "print(f\"RMSE on the validation set = {avg_val_rmse:.3f}\")\n",
    "\n",
    "print(f\"Train RMSE: {avg_train_rmse:.3f}\")\n",
    "print(f\"Validation RMSE: {avg_val_rmse:.3f}\")\n",
    "\n",
    "gap = avg_val_rmse - avg_train_rmse\n",
    "print(f\"Generalization Gap: {gap:.3f}\")"
   ]
  },
  {
   "cell_type": "code",
   "execution_count": null,
   "id": "d08702af-f4c7-4160-8217-9bb53967cb44",
   "metadata": {},
   "outputs": [],
   "source": []
  }
 ],
 "metadata": {
  "kernelspec": {
   "display_name": "Python 3 (ipykernel)",
   "language": "python",
   "name": "python3"
  },
  "language_info": {
   "codemirror_mode": {
    "name": "ipython",
    "version": 3
   },
   "file_extension": ".py",
   "mimetype": "text/x-python",
   "name": "python",
   "nbconvert_exporter": "python",
   "pygments_lexer": "ipython3",
   "version": "3.12.1"
  }
 },
 "nbformat": 4,
 "nbformat_minor": 5
}
